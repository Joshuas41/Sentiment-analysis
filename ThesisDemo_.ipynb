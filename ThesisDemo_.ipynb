{
  "cells": [
    {
      "cell_type": "markdown",
      "metadata": {
        "id": "view-in-github",
        "colab_type": "text"
      },
      "source": [
        "<a href=\"https://colab.research.google.com/github/Joshuas41/Sentiment-analysis/blob/main/ThesisDemo_.ipynb\" target=\"_parent\"><img src=\"https://colab.research.google.com/assets/colab-badge.svg\" alt=\"Open In Colab\"/></a>"
      ]
    },
    {
      "cell_type": "code",
      "execution_count": null,
      "metadata": {
        "colab": {
          "base_uri": "https://localhost:8080/"
        },
        "id": "DYGYoikbW_uO",
        "outputId": "de9b18ee-62cc-4766-8faf-60dc3a43675c"
      },
      "outputs": [
        {
          "output_type": "stream",
          "name": "stdout",
          "text": [
            "Drive already mounted at /content/drive; to attempt to forcibly remount, call drive.mount(\"/content/drive\", force_remount=True).\n",
            "Requirement already satisfied: scikit-learn in /usr/local/lib/python3.10/dist-packages (1.3.2)\n",
            "Requirement already satisfied: numpy<2.0,>=1.17.3 in /usr/local/lib/python3.10/dist-packages (from scikit-learn) (1.26.4)\n",
            "Requirement already satisfied: scipy>=1.5.0 in /usr/local/lib/python3.10/dist-packages (from scikit-learn) (1.13.1)\n",
            "Requirement already satisfied: joblib>=1.1.1 in /usr/local/lib/python3.10/dist-packages (from scikit-learn) (1.4.2)\n",
            "Requirement already satisfied: threadpoolctl>=2.0.0 in /usr/local/lib/python3.10/dist-packages (from scikit-learn) (3.5.0)\n",
            "Fold Accuracy: 0.7496909765142151\n",
            "Fold Classification Report:\n",
            "              precision    recall  f1-score   support\n",
            "\n",
            "     Class 0       0.78      0.69      0.73       744\n",
            "     Class 1       0.50      0.01      0.03        70\n",
            "     Class 2       0.73      0.87      0.79       804\n",
            "\n",
            "    accuracy                           0.75      1618\n",
            "   macro avg       0.67      0.52      0.52      1618\n",
            "weighted avg       0.74      0.75      0.73      1618\n",
            "\n",
            "Fold Accuracy: 0.7373300370828183\n",
            "Fold Classification Report:\n",
            "              precision    recall  f1-score   support\n",
            "\n",
            "     Class 0       0.74      0.71      0.72       744\n",
            "     Class 1       0.33      0.01      0.03        70\n",
            "     Class 2       0.74      0.83      0.78       804\n",
            "\n",
            "    accuracy                           0.74      1618\n",
            "   macro avg       0.60      0.52      0.51      1618\n",
            "weighted avg       0.72      0.74      0.72      1618\n",
            "\n",
            "Fold Accuracy: 0.7243510506798516\n",
            "Fold Classification Report:\n",
            "              precision    recall  f1-score   support\n",
            "\n",
            "     Class 0       0.74      0.67      0.70       744\n",
            "     Class 1       0.67      0.03      0.05        70\n",
            "     Class 2       0.71      0.84      0.77       804\n",
            "\n",
            "    accuracy                           0.72      1618\n",
            "   macro avg       0.71      0.51      0.51      1618\n",
            "weighted avg       0.72      0.72      0.71      1618\n",
            "\n",
            "Fold Accuracy: 0.7330037082818294\n",
            "Fold Classification Report:\n",
            "              precision    recall  f1-score   support\n",
            "\n",
            "     Class 0       0.77      0.65      0.70       744\n",
            "     Class 1       1.00      0.04      0.08        70\n",
            "     Class 2       0.71      0.87      0.78       804\n",
            "\n",
            "    accuracy                           0.73      1618\n",
            "   macro avg       0.83      0.52      0.52      1618\n",
            "weighted avg       0.75      0.73      0.72      1618\n",
            "\n",
            "Fold Accuracy: 0.7249690976514215\n",
            "Fold Classification Report:\n",
            "              precision    recall  f1-score   support\n",
            "\n",
            "     Class 0       0.72      0.69      0.71       744\n",
            "     Class 1       1.00      0.00      0.00        70\n",
            "     Class 2       0.73      0.82      0.77       804\n",
            "\n",
            "    accuracy                           0.72      1618\n",
            "   macro avg       0.82      0.50      0.49      1618\n",
            "weighted avg       0.74      0.72      0.71      1618\n",
            "\n",
            "Fold Accuracy: 0.7297464440321583\n",
            "Fold Classification Report:\n",
            "              precision    recall  f1-score   support\n",
            "\n",
            "     Class 0       0.74      0.67      0.71       744\n",
            "     Class 1       0.00      0.00      1.00        69\n",
            "     Class 2       0.72      0.84      0.78       804\n",
            "\n",
            "    accuracy                           0.73      1617\n",
            "   macro avg       0.49      0.51      0.83      1617\n",
            "weighted avg       0.70      0.73      0.75      1617\n",
            "\n",
            "Fold Accuracy: 0.7421150278293135\n",
            "Fold Classification Report:\n",
            "              precision    recall  f1-score   support\n",
            "\n",
            "     Class 0       0.77      0.68      0.72       744\n",
            "     Class 1       1.00      0.03      0.06        69\n",
            "     Class 2       0.72      0.86      0.79       804\n",
            "\n",
            "    accuracy                           0.74      1617\n",
            "   macro avg       0.83      0.52      0.52      1617\n",
            "weighted avg       0.76      0.74      0.73      1617\n",
            "\n",
            "Fold Accuracy: 0.753865182436611\n",
            "Fold Classification Report:\n",
            "              precision    recall  f1-score   support\n",
            "\n",
            "     Class 0       0.77      0.71      0.74       743\n",
            "     Class 1       1.00      0.03      0.06        70\n",
            "     Class 2       0.74      0.85      0.79       804\n",
            "\n",
            "    accuracy                           0.75      1617\n",
            "   macro avg       0.84      0.53      0.53      1617\n",
            "weighted avg       0.77      0.75      0.74      1617\n",
            "\n",
            "Fold Accuracy: 0.7390228818800247\n",
            "Fold Classification Report:\n",
            "              precision    recall  f1-score   support\n",
            "\n",
            "     Class 0       0.75      0.69      0.72       744\n",
            "     Class 1       0.50      0.03      0.05        70\n",
            "     Class 2       0.73      0.85      0.79       803\n",
            "\n",
            "    accuracy                           0.74      1617\n",
            "   macro avg       0.66      0.52      0.52      1617\n",
            "weighted avg       0.73      0.74      0.72      1617\n",
            "\n",
            "Fold Accuracy: 0.7390228818800247\n",
            "Fold Classification Report:\n",
            "              precision    recall  f1-score   support\n",
            "\n",
            "     Class 0       0.75      0.69      0.72       744\n",
            "     Class 1       1.00      0.00      0.00        70\n",
            "     Class 2       0.73      0.85      0.79       803\n",
            "\n",
            "    accuracy                           0.74      1617\n",
            "   macro avg       0.83      0.51      0.50      1617\n",
            "weighted avg       0.75      0.74      0.72      1617\n",
            "\n",
            "\n",
            "Average Results across all folds:\n",
            "Logistic Regression Average Accuracy: 0.7373117288268267\n"
          ]
        }
      ],
      "source": [
        "from google.colab import drive\n",
        "drive.mount(\"/content/drive\")\n",
        "\n",
        "!pip install scikit-learn\n",
        "\n",
        "import pandas as pd\n",
        "import numpy as np\n",
        "import os\n",
        "from sklearn.feature_extraction.text import TfidfVectorizer\n",
        "from sklearn.model_selection import StratifiedKFold\n",
        "from sklearn.metrics import accuracy_score, classification_report\n",
        "from sklearn.linear_model import LogisticRegression\n",
        "import matplotlib.pyplot as plt\n",
        "\n",
        "def merge_data(paths):\n",
        "    all_sentiments_data = []\n",
        "    all_sents_data = []\n",
        "    for path1, path2 in paths:\n",
        "        sentiments_data = np.loadtxt(path1, dtype=str, usecols=[0])\n",
        "        sents_data = np.loadtxt(path2, dtype=str, usecols=[0])\n",
        "        if sentiments_data.shape[0] != sents_data.shape[0]:\n",
        "            raise ValueError(f\"Number of rows in {path1} and {path2} does not match\")\n",
        "        all_sentiments_data.extend(sentiments_data)\n",
        "        all_sents_data.extend(sents_data)\n",
        "    merged_data = np.array([[sentiment, sents] for sentiment, sents in zip(all_sentiments_data, all_sents_data)])\n",
        "    return merged_data\n",
        "\n",
        "def preprocess_data(data):\n",
        "    return [(label, text.lower()) for label, text in data]\n",
        "\n",
        "def extract_features(processed_data):\n",
        "    vectorizer = TfidfVectorizer(max_features=5000, sublinear_tf=True, smooth_idf=True, ngram_range=(1, 2))\n",
        "    X = vectorizer.fit_transform([text for _, text in processed_data])\n",
        "    return X, vectorizer\n",
        "\n",
        "# Define data paths\n",
        "data_folder_path = '/content/drive/MyDrive/_UIT-VSFC'\n",
        "paths = [\n",
        "    (os.path.join(data_folder_path, 'train', 'sentiments.txt'), os.path.join(data_folder_path, 'train', 'sents.txt')),\n",
        "    (os.path.join(data_folder_path, 'test', 'sentiments.txt'), os.path.join(data_folder_path, 'test', 'sents.txt')),\n",
        "    (os.path.join(data_folder_path, 'dev', 'sentiments.txt'), os.path.join(data_folder_path, 'dev', 'sents.txt'))\n",
        "]\n",
        "\n",
        "train_data = merge_data(paths)\n",
        "processed_train_data = preprocess_data(train_data)\n",
        "X_train, vectorizer = extract_features(processed_train_data)\n",
        "\n",
        "label_mapping = {'0': 0, '1': 1, '2': 2}\n",
        "y_train = np.array([label_mapping[label] for label in train_data[:, 0]])\n",
        "\n",
        "# Cross-validation setup\n",
        "k = 10  # Changed from 5 to 10 for 10-fold cross-validation\n",
        "skf = StratifiedKFold(n_splits=k, shuffle=True, random_state=42)\n",
        "\n",
        "# Initialize lists to store metrics for each fold\n",
        "accuracy_scores = []\n",
        "classification_reports = []\n",
        "\n",
        "for train_index, val_index in skf.split(X_train, y_train):\n",
        "    X_fold_train, X_fold_val = X_train[train_index], X_train[val_index]\n",
        "    y_fold_train, y_fold_val = y_train[train_index], y_train[val_index]\n",
        "\n",
        "    # Train logistic regression model from sklearn\n",
        "    lr_model = LogisticRegression(max_iter=2000)\n",
        "    lr_model.fit(X_fold_train, y_fold_train)\n",
        "\n",
        "    # Evaluate logistic regression model from sklearn\n",
        "    y_val_pred = lr_model.predict(X_fold_val)\n",
        "    accuracy = accuracy_score(y_fold_val, y_val_pred)\n",
        "    report = classification_report(y_fold_val, y_val_pred, target_names=['Class 0', 'Class 1', 'Class 2'], zero_division=1)\n",
        "\n",
        "    accuracy_scores.append(accuracy)\n",
        "    classification_reports.append(report)\n",
        "\n",
        "    print(f'Fold Accuracy: {accuracy}')\n",
        "    print('Fold Classification Report:')\n",
        "    print(report)\n",
        "\n",
        "# Average results across all folds\n",
        "average_accuracy = np.mean(accuracy_scores)\n",
        "\n",
        "print(\"\\nAverage Results across all folds:\")\n",
        "print(f'Logistic Regression Average Accuracy: {average_accuracy}')\n"
      ]
    },
    {
      "cell_type": "code",
      "source": [
        "def predict_sentiment(model, vectorizer, new_text):\n",
        "    processed_text = preprocess_data([(0, new_text)])\n",
        "    X_new = vectorizer.transform([text for _, text in processed_text])\n",
        "    prediction = model.predict(X_new.toarray())\n",
        "    if prediction == 0:\n",
        "        print(\"Predicted sentiment: Negative\")\n",
        "    elif prediction == 1:\n",
        "        print(\"Predicted sentiment: Neutral\")\n",
        "    else:\n",
        "        print(\"Predicted sentiment: Positive\")\n",
        "\n",
        "new_text =  \"\"\n",
        "predict_sentiment(lr_model, vectorizer, new_text)"
      ],
      "metadata": {
        "colab": {
          "base_uri": "https://localhost:8080/"
        },
        "id": "CCnT9cNcqhjk",
        "outputId": "bff6aa3a-6087-4a06-de80-a5fbddda422a"
      },
      "execution_count": null,
      "outputs": [
        {
          "output_type": "stream",
          "name": "stdout",
          "text": [
            "Predicted sentiment: Negative\n"
          ]
        }
      ]
    },
    {
      "cell_type": "code",
      "source": [
        "import pickle\n",
        "\n",
        "with open('/content/sentiment_model.pkl', 'wb') as model_file:\n",
        "    pickle.dump(lr_model, model_file)\n",
        "\n",
        "with open('/content/tfidf_vectorizer.pkl', 'wb') as vectorizer_file:\n",
        "    pickle.dump(vectorizer, vectorizer_file)\n",
        "\n",
        "print(\"Model and vectorizer saved!\")"
      ],
      "metadata": {
        "id": "Qr1ioWJtGABq",
        "outputId": "6ec886a3-adc4-4ebb-af1f-cdac8ffabe06",
        "colab": {
          "base_uri": "https://localhost:8080/"
        }
      },
      "execution_count": null,
      "outputs": [
        {
          "output_type": "stream",
          "name": "stdout",
          "text": [
            "Model and vectorizer saved!\n"
          ]
        }
      ]
    },
    {
      "cell_type": "code",
      "execution_count": null,
      "metadata": {
        "colab": {
          "base_uri": "https://localhost:8080/"
        },
        "id": "MQhbMVQlqqTy",
        "outputId": "ae6b315a-056f-4c13-f41f-4744c7158171"
      },
      "outputs": [
        {
          "output_type": "stream",
          "name": "stdout",
          "text": [
            "The number of entities in the train_data is: 16175\n"
          ]
        }
      ],
      "source": [
        "num_entities = train_data.shape[0]\n",
        "print(f'The number of entities in the train_data is: {num_entities}')"
      ]
    },
    {
      "cell_type": "code",
      "execution_count": null,
      "metadata": {
        "colab": {
          "base_uri": "https://localhost:8080/"
        },
        "id": "z-Mmpf53epWD",
        "outputId": "60e7c7e8-9012-4e8c-82d5-6ec96a1af8aa"
      },
      "outputs": [
        {
          "output_type": "stream",
          "name": "stdout",
          "text": [
            "Total Samples: 16175\n",
            "Class Distribution: [7439  698 8038]\n",
            "Unique Classes and their counts: [(0, 7439), (1, 698), (2, 8038)]\n"
          ]
        }
      ],
      "source": [
        "# Summary of the dataset\n",
        "total_samples = len(y_train)\n",
        "class_distribution = np.bincount(y_train)\n",
        "unique_classes, class_counts = np.unique(y_train, return_counts=True)\n",
        "\n",
        "print(\"Total Samples:\", total_samples)\n",
        "print(\"Class Distribution:\", class_distribution)\n",
        "print(\"Unique Classes and their counts:\", list(zip(unique_classes, class_counts)))"
      ]
    },
    {
      "cell_type": "code",
      "execution_count": null,
      "metadata": {
        "colab": {
          "base_uri": "https://localhost:8080/",
          "height": 564
        },
        "id": "8XlaAX3PfXYK",
        "outputId": "4bf1dd47-33e5-41b9-ae31-6b1869838f0f"
      },
      "outputs": [
        {
          "output_type": "display_data",
          "data": {
            "text/plain": [
              "<Figure size 1000x600 with 1 Axes>"
            ],
            "image/png": "[encoded data removed]"
          },
          "metadata": {}
        }
      ],
      "source": [
        "# Visualizing class distribution\n",
        "plt.figure(figsize=(10, 6))\n",
        "plt.bar(unique_classes, class_counts, color=['blue', 'orange', 'green'])\n",
        "plt.xlabel('Class')\n",
        "plt.ylabel('Frequency')\n",
        "plt.title('Class Distribution')\n",
        "plt.xticks(unique_classes, ['Class 0', 'Class 1', 'Class 2'])\n",
        "plt.show()"
      ]
    },
    {
      "cell_type": "code",
      "execution_count": null,
      "metadata": {
        "colab": {
          "base_uri": "https://localhost:8080/"
        },
        "id": "7JB7sXjTfcY7",
        "outputId": "e26ec8a0-367d-4da8-9360-9854255737f7"
      },
      "outputs": [
        {
          "output_type": "stream",
          "name": "stdout",
          "text": [
            "Average Precision per Class: [0.75147059 1.         0.72998933]\n",
            "Average Recall per Class: [0.68682796 0.         0.85180573]\n",
            "Average F1-Score per Class: [0.71769663 0.         0.7862069 ]\n"
          ]
        }
      ],
      "source": [
        "# Average classification report\n",
        "from sklearn.metrics import precision_recall_fscore_support\n",
        "import numpy as np\n",
        "\n",
        "all_precisions = []\n",
        "all_recalls = []\n",
        "all_f1s = []\n",
        "\n",
        "for report in classification_reports:\n",
        "    precision, recall, f1, _ = precision_recall_fscore_support(y_true=y_fold_val, y_pred=y_val_pred, average=None, zero_division=1)\n",
        "    all_precisions.append(precision)\n",
        "    all_recalls.append(recall)\n",
        "    all_f1s.append(f1)\n",
        "\n",
        "average_precisions = np.mean(all_precisions, axis=0)\n",
        "average_recalls = np.mean(all_recalls, axis=0)\n",
        "average_f1s = np.mean(all_f1s, axis=0)\n",
        "\n",
        "print(\"Average Precision per Class:\", average_precisions)\n",
        "print(\"Average Recall per Class:\", average_recalls)\n",
        "print(\"Average F1-Score per Class:\", average_f1s)"
      ]
    },
    {
      "cell_type": "code",
      "execution_count": null,
      "metadata": {
        "colab": {
          "base_uri": "https://localhost:8080/"
        },
        "id": "9aOimseZfnKB",
        "outputId": "e064e0b5-9e93-4f3d-a94a-8d19e84b2646"
      },
      "outputs": [
        {
          "output_type": "stream",
          "name": "stdout",
          "text": [
            "Average Confusion Matrix:\n",
            " [[5.093e+02 5.000e-01 2.341e+02]\n",
            " [4.500e+01 1.300e+00 2.350e+01]\n",
            " [1.214e+02 4.000e-01 6.820e+02]]\n"
          ]
        },
        {
          "output_type": "display_data",
          "data": {
            "text/plain": [
              "<Figure size 1000x700 with 2 Axes>"
            ],
            "image/png": "[encoded data removed]"
          },
          "metadata": {}
        }
      ],
      "source": [
        "# Error analysis\n",
        "from sklearn.metrics import confusion_matrix\n",
        "\n",
        "# Aggregate confusion matrices from each fold\n",
        "conf_matrices = []\n",
        "for train_index, val_index in skf.split(X_train, y_train):\n",
        "    X_fold_train, X_fold_val = X_train[train_index], X_train[val_index]\n",
        "    y_fold_train, y_fold_val = y_train[train_index], y_train[val_index]\n",
        "    lr_model = LogisticRegression(max_iter=2000)\n",
        "    lr_model.fit(X_fold_train, y_fold_train)\n",
        "    y_val_pred = lr_model.predict(X_fold_val)\n",
        "    conf_matrix = confusion_matrix(y_fold_val, y_val_pred)\n",
        "    conf_matrices.append(conf_matrix)\n",
        "\n",
        "# Average confusion matrix\n",
        "average_conf_matrix = np.mean(conf_matrices, axis=0)\n",
        "\n",
        "print(\"Average Confusion Matrix:\\n\", average_conf_matrix)\n",
        "\n",
        "# Visualize confusion matrix\n",
        "import seaborn as sns\n",
        "\n",
        "plt.figure(figsize=(10, 7))\n",
        "sns.heatmap(average_conf_matrix, annot=True, fmt='.0f', cmap='Blues', xticklabels=['Class 0', 'Class 1', 'Class 2'], yticklabels=['Class 0', 'Class 1', 'Class 2'])\n",
        "plt.xlabel('Predicted')\n",
        "plt.ylabel('True')\n",
        "plt.title('Average Confusion Matrix')\n",
        "plt.show()"
      ]
    },
    {
      "cell_type": "code",
      "execution_count": null,
      "metadata": {
        "colab": {
          "base_uri": "https://localhost:8080/",
          "height": 564
        },
        "id": "ItAYz_S6fyJC",
        "outputId": "f6d7bf06-4ecf-4087-e5c1-6b111cb80cb3"
      },
      "outputs": [
        {
          "data": {
            "image/png": "[encoded data removed]",
            "text/plain": [
              "<Figure size 1000x600 with 1 Axes>"
            ]
          },
          "metadata": {},
          "output_type": "display_data"
        }
      ],
      "source": [
        "# Visualize accuracy across folds\n",
        "plt.figure(figsize=(10, 6))\n",
        "plt.plot(range(1, k+1), accuracy_scores, marker='o', linestyle='--', color='b')\n",
        "plt.title('Fold Accuracy Scores')\n",
        "plt.xlabel('Fold')\n",
        "plt.ylabel('Accuracy')\n",
        "plt.xticks(range(1, k+1))\n",
        "plt.ylim(0, 1)\n",
        "plt.grid(True)\n",
        "plt.show()"
      ]
    }
  ],
  "metadata": {
    "colab": {
      "provenance": [],
      "mount_file_id": "1tR-XLdRySGXiH5weCiycwbkIN7S6H17y",
      "authorship_tag": "ABX9TyPWmgoyeeysnlCH9zOaJrfq",
      "include_colab_link": true
    },
    "kernelspec": {
      "display_name": "Python 3",
      "name": "python3"
    },
    "language_info": {
      "name": "python"
    }
  },
  "nbformat": 4,
  "nbformat_minor": 0
}